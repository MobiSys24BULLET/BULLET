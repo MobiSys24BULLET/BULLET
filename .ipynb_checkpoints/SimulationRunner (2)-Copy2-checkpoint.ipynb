{
 "cells": [
  {
   "cell_type": "code",
   "execution_count": 10,
   "id": "1e0999bd",
   "metadata": {
    "scrolled": false
   },
   "outputs": [
    {
     "name": "stdout",
     "output_type": "stream",
     "text": [
      "Running simulation with config: --CCA=TcpCopa --Schedule=0 --UEs=10 --Coverage=50 --UESpeed=0 --enableBbr=0 --beta=0.01 --copaDelta=0.1 --ideal=0 --Fairness=0 --simTimeMs=100400 --simTag=config1\n",
      "Running simulation with config: --CCA=TcpCopa --Schedule=0 --UEs=10 --Coverage=50 --UESpeed=0 --enableBbr=0 --beta=0.01 --copaDelta=0.1 --ideal=0 --Fairness=0.2 --simTimeMs=100400 --simTag=config2\n",
      "Running simulation with config: --CCA=TcpCopa --Schedule=0 --UEs=10 --Coverage=50 --UESpeed=0 --enableBbr=0 --beta=0.01 --copaDelta=0.1 --ideal=0 --Fairness=0.4 --simTimeMs=100400 --simTag=config3\n",
      "\n",
      "Running simulation with config: --CCA=TcpCopa --Schedule=0 --UEs=10 --Coverage=50 --UESpeed=0 --enableBbr=0 --beta=0.01 --copaDelta=0.1 --ideal=0 --Fairness=0.6 --simTimeMs=100400 --simTag=config4Running simulation with config: --CCA=TcpCopa --Schedule=0 --UEs=10 --Coverage=50 --UESpeed=0 --enableBbr=0 --beta=0.01 --copaDelta=0.1 --ideal=0 --Fairness=0.8 --simTimeMs=100400 --simTag=config5\n",
      "Running simulation with config: --CCA=TcpCopa --Schedule=0 --UEs=10 --Coverage=50 --UESpeed=0 --enableBbr=0 --beta=0.01 --copaDelta=0.1 --ideal=0 --Fairness=1 --simTimeMs=100400 --simTag=config6\n",
      "Simulation with config: --CCA=TcpCopa --Schedule=0 --UEs=10 --Coverage=50 --UESpeed=0 --enableBbr=0 --beta=0.01 --copaDelta=0.1 --ideal=0 --Fairness=0.4 --simTimeMs=100400 --simTag=config3 completed.\n",
      "Simulation with config: --CCA=TcpCopa --Schedule=0 --UEs=10 --Coverage=50 --UESpeed=0 --enableBbr=0 --beta=0.01 --copaDelta=0.1 --ideal=0 --Fairness=0.6 --simTimeMs=100400 --simTag=config4 completed.\n",
      "Simulation with config: --CCA=TcpCopa --Schedule=0 --UEs=10 --Coverage=50 --UESpeed=0 --enableBbr=0 --beta=0.01 --copaDelta=0.1 --ideal=0 --Fairness=0.2 --simTimeMs=100400 --simTag=config2 completed.\n",
      "Simulation with config: --CCA=TcpCopa --Schedule=0 --UEs=10 --Coverage=50 --UESpeed=0 --enableBbr=0 --beta=0.01 --copaDelta=0.1 --ideal=0 --Fairness=0 --simTimeMs=100400 --simTag=config1 completed.\n",
      "Simulation with config: --CCA=TcpCopa --Schedule=0 --UEs=10 --Coverage=50 --UESpeed=0 --enableBbr=0 --beta=0.01 --copaDelta=0.1 --ideal=0 --Fairness=0.8 --simTimeMs=100400 --simTag=config5 completed.\n",
      "Simulation with config: --CCA=TcpCopa --Schedule=0 --UEs=10 --Coverage=50 --UESpeed=0 --enableBbr=0 --beta=0.01 --copaDelta=0.1 --ideal=0 --Fairness=1 --simTimeMs=100400 --simTag=config6 completed.\n",
      "All simulations completed.\n"
     ]
    }
   ],
   "source": [
    "import os\n",
    "import subprocess\n",
    "from multiprocessing import Process\n",
    "import time\n",
    "\n",
    "def run_simulation(config):\n",
    "    cmd = f'./ns3 run --quiet \"scratch/contending-simulation.cc {config}\"'\n",
    "    print(f'Running simulation with config: {config}')\n",
    "    \n",
    "    with open(os.devnull, 'w') as devnull:\n",
    "        subprocess.run(cmd, shell=True, check=True, stdout=devnull, stderr=subprocess.STDOUT)\n",
    "        \n",
    "    print(f'Simulation with config: {config} completed.')\n",
    "\n",
    "if __name__ == \"__main__\":\n",
    "    base_configs = {\n",
    "        \"CCA\": \"TcpCopa\",\n",
    "        \"Schedule\": 0, # 10: Default, 0: Tutti, 1: Tutti + GF, 2: BULLET (w/o robust) 3: BULLET 4: Ideal\n",
    "        \"UEs\": 10,\n",
    "        \"Coverage\": 50,\n",
    "        \"UESpeed\": 0,\n",
    "        \"enableBbr\": 0,\n",
    "        \"beta\": 0.01,\n",
    "        \"copaDelta\": 0.1,\n",
    "        \"ideal\": 0,\n",
    "        \"Fairness\": 1,\n",
    "        \"simTimeMs\": 100400,\n",
    "    }\n",
    "    # Add more configurations here as dictionaries\n",
    "    sched_list = [0, 1, 3]  # UE numbers from 1 to 20\n",
    "    processes = []\n",
    "\n",
    "    for i, beta in enumerate(sched_list):\n",
    "        config = base_configs.copy()\n",
    "        config[\"Schedule\"] = str(beta)\n",
    "        config[\"simTag\"] = f'config{i+1}'\n",
    "        \n",
    "        config_str = \" \".join([f\"--{key}={value}\" for key, value in config.items()])\n",
    "        process = Process(target=run_simulation, args=(config_str,))\n",
    "        process.start()\n",
    "        processes.append(process)\n",
    "\n",
    "    for process in processes:\n",
    "        process.join()\n",
    "\n",
    "    print(\"All simulations completed.\")"
   ]
  },
  {
   "cell_type": "code",
   "execution_count": 10,
   "id": "48e2aa3b",
   "metadata": {},
   "outputs": [
    {
     "ename": "TypeError",
     "evalue": "'type' object is not subscriptable",
     "output_type": "error",
     "traceback": [
      "\u001b[0;31m---------------------------------------------------------------------------\u001b[0m",
      "\u001b[0;31mTypeError\u001b[0m                                 Traceback (most recent call last)",
      "Cell \u001b[0;32mIn [10], line 1\u001b[0m\n\u001b[0;32m----> 1\u001b[0m \u001b[38;5;28;43mlist\u001b[39;49m\u001b[43m[\u001b[49m\u001b[38;5;28;43mrange\u001b[39;49m\u001b[43m(\u001b[49m\u001b[38;5;241;43m1\u001b[39;49m\u001b[43m,\u001b[49m\u001b[38;5;241;43m11\u001b[39;49m\u001b[43m)\u001b[49m\u001b[43m]\u001b[49m\n",
      "\u001b[0;31mTypeError\u001b[0m: 'type' object is not subscriptable"
     ]
    }
   ],
   "source": [
    "list[range(1,11)]"
   ]
  },
  {
   "cell_type": "code",
   "execution_count": null,
   "id": "8e6cf0e8",
   "metadata": {},
   "outputs": [],
   "source": []
  }
 ],
 "metadata": {
  "kernelspec": {
   "display_name": "Python 3 (ipykernel)",
   "language": "python",
   "name": "python3"
  },
  "language_info": {
   "codemirror_mode": {
    "name": "ipython",
    "version": 3
   },
   "file_extension": ".py",
   "mimetype": "text/x-python",
   "name": "python",
   "nbconvert_exporter": "python",
   "pygments_lexer": "ipython3",
   "version": "3.8.10"
  }
 },
 "nbformat": 4,
 "nbformat_minor": 5
}
