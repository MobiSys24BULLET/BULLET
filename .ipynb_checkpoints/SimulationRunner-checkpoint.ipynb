{
 "cells": [
  {
   "cell_type": "code",
   "execution_count": 7,
   "id": "071030fb",
   "metadata": {
    "scrolled": false
   },
   "outputs": [
    {
     "name": "stdout",
     "output_type": "stream",
     "text": [
      "Running simulation with config: --CCA=TcpCopa --Schedule=0 --UEs=2 --Coverage=10 --UESpeed=7 --enableBbr=0 --beta=0.1 --copaDelta=0.5 --ideal=0 --Fairness=1 --simTimeMs=20400 --simTag=config1\n",
      "Running simulation with config: --CCA=TcpCopa --Schedule=0 --UEs=4 --Coverage=10 --UESpeed=7 --enableBbr=0 --beta=0.1 --copaDelta=0.5 --ideal=0 --Fairness=1 --simTimeMs=20400 --simTag=config2\n",
      "Running simulation with config: --CCA=TcpCopa --Schedule=0 --UEs=6 --Coverage=10 --UESpeed=7 --enableBbr=0 --beta=0.1 --copaDelta=0.5 --ideal=0 --Fairness=1 --simTimeMs=20400 --simTag=config3\n",
      "Running simulation with config: --CCA=TcpCopa --Schedule=0 --UEs=8 --Coverage=10 --UESpeed=7 --enableBbr=0 --beta=0.1 --copaDelta=0.5 --ideal=0 --Fairness=1 --simTimeMs=20400 --simTag=config4\n",
      "Running simulation with config: --CCA=TcpCopa --Schedule=0 --UEs=10 --Coverage=10 --UESpeed=7 --enableBbr=0 --beta=0.1 --copaDelta=0.5 --ideal=0 --Fairness=1 --simTimeMs=20400 --simTag=config5\n"
     ]
    },
    {
     "name": "stderr",
     "output_type": "stream",
     "text": [
      "Process Process-17:\n",
      "Traceback (most recent call last):\n",
      "  File \"/usr/lib/python3.8/multiprocessing/process.py\", line 315, in _bootstrap\n",
      "    self.run()\n",
      "  File \"/usr/lib/python3.8/multiprocessing/process.py\", line 108, in run\n",
      "    self._target(*self._args, **self._kwargs)\n",
      "  File \"/tmp/ipykernel_1995/4198355979.py\", line 11, in run_simulation\n",
      "    subprocess.run(cmd, shell=True, check=True, stdout=devnull, stderr=subprocess.STDOUT)\n",
      "  File \"/usr/lib/python3.8/subprocess.py\", line 516, in run\n",
      "    raise CalledProcessError(retcode, process.args,\n",
      "subprocess.CalledProcessError: Command './ns3 run --quiet \"scratch/general-bullet.cc --CCA=TcpCopa --Schedule=0 --UEs=2 --Coverage=10 --UESpeed=7 --enableBbr=0 --beta=0.1 --copaDelta=0.5 --ideal=0 --Fairness=1 --simTimeMs=20400 --simTag=config1\"' returned non-zero exit status 1.\n",
      "Process Process-21:\n",
      "Traceback (most recent call last):\n",
      "  File \"/usr/lib/python3.8/multiprocessing/process.py\", line 315, in _bootstrap\n",
      "    self.run()\n",
      "  File \"/usr/lib/python3.8/multiprocessing/process.py\", line 108, in run\n",
      "    self._target(*self._args, **self._kwargs)\n",
      "  File \"/tmp/ipykernel_1995/4198355979.py\", line 11, in run_simulation\n",
      "    subprocess.run(cmd, shell=True, check=True, stdout=devnull, stderr=subprocess.STDOUT)\n",
      "  File \"/usr/lib/python3.8/subprocess.py\", line 516, in run\n",
      "    raise CalledProcessError(retcode, process.args,\n",
      "subprocess.CalledProcessError: Command './ns3 run --quiet \"scratch/general-bullet.cc --CCA=TcpCopa --Schedule=0 --UEs=10 --Coverage=10 --UESpeed=7 --enableBbr=0 --beta=0.1 --copaDelta=0.5 --ideal=0 --Fairness=1 --simTimeMs=20400 --simTag=config5\"' returned non-zero exit status 2.\n",
      "Process Process-18:\n",
      "Traceback (most recent call last):\n",
      "  File \"/usr/lib/python3.8/multiprocessing/process.py\", line 315, in _bootstrap\n",
      "    self.run()\n",
      "  File \"/usr/lib/python3.8/multiprocessing/process.py\", line 108, in run\n",
      "    self._target(*self._args, **self._kwargs)\n",
      "  File \"/tmp/ipykernel_1995/4198355979.py\", line 11, in run_simulation\n",
      "    subprocess.run(cmd, shell=True, check=True, stdout=devnull, stderr=subprocess.STDOUT)\n",
      "  File \"/usr/lib/python3.8/subprocess.py\", line 516, in run\n",
      "    raise CalledProcessError(retcode, process.args,\n",
      "subprocess.CalledProcessError: Command './ns3 run --quiet \"scratch/general-bullet.cc --CCA=TcpCopa --Schedule=0 --UEs=4 --Coverage=10 --UESpeed=7 --enableBbr=0 --beta=0.1 --copaDelta=0.5 --ideal=0 --Fairness=1 --simTimeMs=20400 --simTag=config2\"' returned non-zero exit status 1.\n",
      "Process Process-20:\n",
      "Traceback (most recent call last):\n",
      "  File \"/usr/lib/python3.8/multiprocessing/process.py\", line 315, in _bootstrap\n",
      "    self.run()\n",
      "  File \"/usr/lib/python3.8/multiprocessing/process.py\", line 108, in run\n",
      "    self._target(*self._args, **self._kwargs)\n",
      "  File \"/tmp/ipykernel_1995/4198355979.py\", line 11, in run_simulation\n",
      "    subprocess.run(cmd, shell=True, check=True, stdout=devnull, stderr=subprocess.STDOUT)\n",
      "  File \"/usr/lib/python3.8/subprocess.py\", line 516, in run\n",
      "    raise CalledProcessError(retcode, process.args,\n",
      "subprocess.CalledProcessError: Command './ns3 run --quiet \"scratch/general-bullet.cc --CCA=TcpCopa --Schedule=0 --UEs=8 --Coverage=10 --UESpeed=7 --enableBbr=0 --beta=0.1 --copaDelta=0.5 --ideal=0 --Fairness=1 --simTimeMs=20400 --simTag=config4\"' returned non-zero exit status 2.\n",
      "Process Process-19:\n",
      "Traceback (most recent call last):\n",
      "  File \"/usr/lib/python3.8/multiprocessing/process.py\", line 315, in _bootstrap\n",
      "    self.run()\n",
      "  File \"/usr/lib/python3.8/multiprocessing/process.py\", line 108, in run\n",
      "    self._target(*self._args, **self._kwargs)\n",
      "  File \"/tmp/ipykernel_1995/4198355979.py\", line 11, in run_simulation\n",
      "    subprocess.run(cmd, shell=True, check=True, stdout=devnull, stderr=subprocess.STDOUT)\n",
      "  File \"/usr/lib/python3.8/subprocess.py\", line 516, in run\n",
      "    raise CalledProcessError(retcode, process.args,\n",
      "subprocess.CalledProcessError: Command './ns3 run --quiet \"scratch/general-bullet.cc --CCA=TcpCopa --Schedule=0 --UEs=6 --Coverage=10 --UESpeed=7 --enableBbr=0 --beta=0.1 --copaDelta=0.5 --ideal=0 --Fairness=1 --simTimeMs=20400 --simTag=config3\"' returned non-zero exit status 2.\n"
     ]
    },
    {
     "name": "stdout",
     "output_type": "stream",
     "text": [
      "All simulations completed.\n"
     ]
    }
   ],
   "source": [
    "import os\n",
    "import subprocess\n",
    "from multiprocessing import Process\n",
    "import time\n",
    "\n",
    "def run_simulation(config):\n",
    "    cmd = f'./ns3 run --quiet \"scratch/general-bullet.cc {config}\"'\n",
    "    print(f'Running simulation with config: {config}')\n",
    "    \n",
    "    with open(os.devnull, 'w') as devnull:\n",
    "        subprocess.run(cmd, shell=True, check=True, stdout=devnull, stderr=subprocess.STDOUT)\n",
    "        \n",
    "    print(f'Simulation with config: {config} completed.')\n",
    "\n",
    "if __name__ == \"__main__\":\n",
    "    base_configs = {\n",
    "        \"CCA\": \"TcpCopa\",\n",
    "        \"Schedule\": 0, # 10: Default, 0: Tutti, 1: Tutti + GF, 2: BULLET (w/o robust) 3: BULLET 4: Ideal\n",
    "        \"UEs\": 1,\n",
    "        \"Coverage\": 10,\n",
    "        \"UESpeed\": 7,\n",
    "        \"enableBbr\": 0,\n",
    "        \"beta\": 0.1,\n",
    "        \"copaDelta\": 0.5,\n",
    "        \"ideal\": 0,\n",
    "        \"Fairness\": 1,\n",
    "        \"simTimeMs\": 20400,\n",
    "    }\n",
    "    # Add more configurations here as dictionaries\n",
    "    sched_list = [2,4,6,8,10]  # UE numbers from 1 to 20\n",
    "    processes = []\n",
    "\n",
    "    for i, beta in enumerate(sched_list):\n",
    "        config = base_configs.copy()\n",
    "        config[\"UEs\"] = str(beta)\n",
    "        config[\"simTag\"] = f'config{i+1}'\n",
    "        \n",
    "        config_str = \" \".join([f\"--{key}={value}\" for key, value in config.items()])\n",
    "        process = Process(target=run_simulation, args=(config_str,))\n",
    "        process.start()\n",
    "        processes.append(process)\n",
    "\n",
    "    for process in processes:\n",
    "        process.join()\n",
    "\n",
    "    print(\"All simulations completed.\")"
   ]
  },
  {
   "cell_type": "code",
   "execution_count": 28,
   "id": "64377e50",
   "metadata": {},
   "outputs": [
    {
     "data": {
      "text/plain": [
       "'--CCA=TcpCopa --Schedule=0 --UEInterval=0 --UESpeed=1.4 --enableBbr=1 --copaDelta=0.1 --ideal=0 --simTimeMs=20400 --UEs=20 --simTag=config20'"
      ]
     },
     "execution_count": 28,
     "metadata": {},
     "output_type": "execute_result"
    }
   ],
   "source": [
    "config_str"
   ]
  },
  {
   "cell_type": "code",
   "execution_count": null,
   "id": "3f822b33",
   "metadata": {},
   "outputs": [],
   "source": []
  }
 ],
 "metadata": {
  "kernelspec": {
   "display_name": "Python 3 (ipykernel)",
   "language": "python",
   "name": "python3"
  },
  "language_info": {
   "codemirror_mode": {
    "name": "ipython",
    "version": 3
   },
   "file_extension": ".py",
   "mimetype": "text/x-python",
   "name": "python",
   "nbconvert_exporter": "python",
   "pygments_lexer": "ipython3",
   "version": "3.8.10"
  }
 },
 "nbformat": 4,
 "nbformat_minor": 5
}
